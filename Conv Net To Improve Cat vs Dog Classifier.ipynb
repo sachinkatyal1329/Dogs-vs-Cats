{
 "cells": [
  {
   "cell_type": "markdown",
   "metadata": {},
   "source": [
    "### MY UNDERSTANDING OF CONVNETS\n",
    "\n",
    "Given an image (32x32x3 for example) we can set up a convolution of 5x5x3\n",
    "Take the dot product between the convolution and chunks of the image\n",
    "\n",
    "\n",
    "Conv layer comprises of a set of independent filters - feature maps\n",
    "Unlike normal NN, each neuron is connected to only small chunk of input image \n",
    "and nerons have the same connection weights\n",
    "\n",
    "<hr/>\n",
    "\n",
    "<code>'batch_size'</code>          -> How many images at once do we want to pass \n",
    "                      -> (20 - 200) for smallish (~25,0000) dataset before any weights are updated\n",
    "\n",
    "<code>'validation_split'</code>    -> Out of sample data\n",
    "\n",
    "\n",
    "**Pooling**               -> Progressively reduce size of the layers to reduce computation\n",
    "Max Pool              -> Take largest number in certain filter chunk\n",
    "\n",
    "**Fully Connected Layer** -> At end of CNN, neurons have connections to all activatons in previous layer (Think NN)\n",
    "\n",
    "**Dense layer**           -> Regular layer of neurons in NN with certain 'activation' (relu, sigmoid, tanh)\n",
    "                      -> It's the fully connected layer usually found at the end of the architecture\n",
    "\n",
    "**Dropout**               -> Randomly drops fraction of neurons\n",
    "                      -> Imitates dead neurons\n",
    "                      -> Used to counter Overfitting\n",
    "<hr />\n",
    "Sample Architecture/Workflow\n",
    " - Start with Input image (Car for example at 32x32 with Conv 2x2 stride 2)\n",
    " - Conv + Relu\n",
    " - Max Pooling -> Downsizes matrix to 8x8 for example\n",
    " - Conv + Relu\n",
    " - Max Pooling -> Downsizes matrix to 2x2 for example\n",
    " - Vectorize current Matrix\n",
    " - Add Fully Connected Layer\n",
    " - Apply Softmax to get final probabilities of classifications\n"
   ]
  },
  {
   "cell_type": "code",
   "execution_count": 1,
   "metadata": {
    "scrolled": false
   },
   "outputs": [
    {
     "name": "stderr",
     "output_type": "stream",
     "text": [
      "Using TensorFlow backend.\n"
     ]
    },
    {
     "ename": "EOFError",
     "evalue": "Ran out of input",
     "output_type": "error",
     "traceback": [
      "\u001b[0;31m---------------------------------------------------------------------------\u001b[0m",
      "\u001b[0;31mEOFError\u001b[0m                                  Traceback (most recent call last)",
      "\u001b[0;32m<ipython-input-1-74b62d81d55e>\u001b[0m in \u001b[0;36m<module>\u001b[0;34m()\u001b[0m\n\u001b[1;32m      6\u001b[0m \u001b[0;32mimport\u001b[0m \u001b[0mpickle\u001b[0m\u001b[0;34m\u001b[0m\u001b[0m\n\u001b[1;32m      7\u001b[0m \u001b[0;34m\u001b[0m\u001b[0m\n\u001b[0;32m----> 8\u001b[0;31m \u001b[0mX\u001b[0m \u001b[0;34m=\u001b[0m \u001b[0mpickle\u001b[0m\u001b[0;34m.\u001b[0m\u001b[0mload\u001b[0m\u001b[0;34m(\u001b[0m\u001b[0mopen\u001b[0m\u001b[0;34m(\u001b[0m\u001b[0;34m\"X.pickle\"\u001b[0m\u001b[0;34m,\u001b[0m \u001b[0;34m\"rb\"\u001b[0m\u001b[0;34m)\u001b[0m\u001b[0;34m)\u001b[0m\u001b[0;34m\u001b[0m\u001b[0m\n\u001b[0m\u001b[1;32m      9\u001b[0m \u001b[0my\u001b[0m \u001b[0;34m=\u001b[0m \u001b[0mpickle\u001b[0m\u001b[0;34m.\u001b[0m\u001b[0mload\u001b[0m\u001b[0;34m(\u001b[0m\u001b[0mopen\u001b[0m\u001b[0;34m(\u001b[0m\u001b[0;34m\"y.pickle\"\u001b[0m\u001b[0;34m,\u001b[0m \u001b[0;34m\"rb\"\u001b[0m\u001b[0;34m)\u001b[0m\u001b[0;34m)\u001b[0m\u001b[0;34m\u001b[0m\u001b[0m\n\u001b[1;32m     10\u001b[0m \u001b[0;34m\u001b[0m\u001b[0m\n",
      "\u001b[0;31mEOFError\u001b[0m: Ran out of input"
     ]
    }
   ],
   "source": [
    "#CONVNET FOLLOWING ARCHITECTURE SIMILAR TO THE ONE DESCRIBED ABOVE\n",
    "\n",
    "import keras\n",
    "from keras.models import Sequential\n",
    "from keras.layers import Dense, Dropout, Activation, Flatten, Conv2D, MaxPooling2D\n",
    "import pickle\n",
    "\n",
    "X = pickle.load(open(\"X.pickle\", \"rb\"))\n",
    "y = pickle.load(open(\"y.pickle\", \"rb\"))\n",
    "\n",
    "#MAP X DATA FROM (0,255) TO (0,1)\n",
    "X = X / 255.0\n",
    "\n",
    "#2x64 ConvNet\n",
    "model = Sequential()\n",
    "\n",
    "#CONVNET + RELU\n",
    "#@param: idk, convolution, input shape\n",
    "model.add(Conv2D(64, (3,3), input_shape = X.shape[1:]))\n",
    "model.add(Activation(\"relu\"))\n",
    "\n",
    "#MAX POOL\n",
    "model.add(MaxPooling2D(pool_size=(2,2)))\n",
    "\n",
    "#CONVNET + RELU\n",
    "model.add(Conv2D(64, (3,3), input_shape = X.shape[1:]))\n",
    "model.add(Activation(\"relu\"))\n",
    "\n",
    "#MAX POOL\n",
    "model.add(MaxPooling2D(pool_size=(2,2)))\n",
    "\n",
    "#FULLY CONNECTED LAYER\n",
    "model.add(Flatten())\n",
    "model.add(Dense(64))\n",
    "model.add(Activation('relu'))\n",
    "\n",
    "model.add(Dense(1))\n",
    "model.add(Activation(\"sigmoid\"))\n",
    "\n",
    "model.compile(loss = \"binary_crossentropy\", \n",
    "              optimizer = \"adam\",\n",
    "              metrics = [\"accuracy\"]\n",
    "             )\n",
    "\n",
    "model.fit(X, y, batch_size = 32, validation_split = 0.1, epochs = 3)"
   ]
  },
  {
   "cell_type": "code",
   "execution_count": 16,
   "metadata": {},
   "outputs": [
    {
     "name": "stdout",
     "output_type": "stream",
     "text": [
      "(None, 50, 50, 3)\n",
      "(24946, 50, 50, 3)\n",
      "_________________________________________________________________\n",
      "Layer (type)                 Output Shape              Param #   \n",
      "=================================================================\n",
      "conv2d_3 (Conv2D)            (None, 48, 48, 64)        1792      \n",
      "_________________________________________________________________\n",
      "activation_5 (Activation)    (None, 48, 48, 64)        0         \n",
      "_________________________________________________________________\n",
      "max_pooling2d_3 (MaxPooling2 (None, 24, 24, 64)        0         \n",
      "_________________________________________________________________\n",
      "conv2d_4 (Conv2D)            (None, 22, 22, 64)        36928     \n",
      "_________________________________________________________________\n",
      "activation_6 (Activation)    (None, 22, 22, 64)        0         \n",
      "_________________________________________________________________\n",
      "max_pooling2d_4 (MaxPooling2 (None, 11, 11, 64)        0         \n",
      "_________________________________________________________________\n",
      "flatten_2 (Flatten)          (None, 7744)              0         \n",
      "_________________________________________________________________\n",
      "dense_3 (Dense)              (None, 1)                 7745      \n",
      "_________________________________________________________________\n",
      "activation_7 (Activation)    (None, 1)                 0         \n",
      "=================================================================\n",
      "Total params: 46,465\n",
      "Trainable params: 46,465\n",
      "Non-trainable params: 0\n",
      "_________________________________________________________________\n"
     ]
    }
   ],
   "source": [
    "print(model.input_shape)\n",
    "print(X.shape)\n",
    "model.summary()"
   ]
  },
  {
   "cell_type": "code",
   "execution_count": 5,
   "metadata": {},
   "outputs": [
    {
     "name": "stdout",
     "output_type": "stream",
     "text": [
      "(None, 50, 50, 3)\n"
     ]
    }
   ],
   "source": [
    "model.save('DogsCats.h5')\n",
    "print(model.input_shape)"
   ]
  },
  {
   "cell_type": "code",
   "execution_count": 20,
   "metadata": {},
   "outputs": [
    {
     "name": "stdout",
     "output_type": "stream",
     "text": [
      "0 : conv2d_1_input, <keras.engine.input_layer.InputLayer object at 0x1280903c8>\n",
      "1 : conv2d_1, <keras.layers.convolutional.Conv2D object at 0x1280900b8>\n",
      "2 : activation_1, <keras.layers.core.Activation object at 0x128090358>\n",
      "3 : max_pooling2d_1, <keras.layers.pooling.MaxPooling2D object at 0x128090320>\n",
      "4 : conv2d_2, <keras.layers.convolutional.Conv2D object at 0x138a568d0>\n",
      "5 : activation_2, <keras.layers.core.Activation object at 0x138a6e4e0>\n",
      "6 : max_pooling2d_2, <keras.layers.pooling.MaxPooling2D object at 0x138a6e8d0>\n",
      "7 : flatten_1, <keras.layers.core.Flatten object at 0x128090518>\n",
      "8 : dense_1, <keras.layers.core.Dense object at 0x135cc9828>\n",
      "9 : activation_3, <keras.layers.core.Activation object at 0x138a6e898>\n",
      "10 : dense_2, <keras.layers.core.Dense object at 0x135ce0748>\n",
      "11 : activation_4, <keras.layers.core.Activation object at 0x135ce0cc0>\n"
     ]
    }
   ],
   "source": [
    "import keras\n",
    "from keras.utils import CustomObjectScope\n",
    "from keras.initializers import glorot_uniform\n",
    "import coremltools\n",
    "\n",
    "\n",
    "scale = 1/255.\n",
    "coreml_model = coremltools.converters.keras.convert('DogsCats.h5',\n",
    "                                               input_names=['image'], output_names=['output'], \n",
    "                                                image_input_names='image')\n",
    "coreml_model.author = 'Sachin Katyal'\n",
    "coreml_model.short_description = 'Dog vs Cat Recognition'\n",
    "coreml_model.input_description['image'] = 'Takes as input an image of a Dog or Cat digit'\n",
    "coreml_model.output_description['output'] = 'Prediction of Animal'\n",
    "coreml_model.license = 'My ass'\n",
    "\n",
    "coreml_model.save(\"DogsCats.mlmodel\")\n",
    "\n",
    "#coremltools.utils.save_spec(core_model, 'model.mlmodel')\n",
    "\n"
   ]
  },
  {
   "cell_type": "code",
   "execution_count": null,
   "metadata": {},
   "outputs": [],
   "source": []
  },
  {
   "cell_type": "code",
   "execution_count": null,
   "metadata": {},
   "outputs": [],
   "source": []
  }
 ],
 "metadata": {
  "kernelspec": {
   "display_name": "Python 3",
   "language": "python",
   "name": "python3"
  },
  "language_info": {
   "codemirror_mode": {
    "name": "ipython",
    "version": 3
   },
   "file_extension": ".py",
   "mimetype": "text/x-python",
   "name": "python",
   "nbconvert_exporter": "python",
   "pygments_lexer": "ipython3",
   "version": "3.5.2"
  }
 },
 "nbformat": 4,
 "nbformat_minor": 2
}
